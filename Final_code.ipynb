{
 "cells": [
  {
   "cell_type": "markdown",
   "id": "72fd21d6-00e3-4838-9c3c-c30014506071",
   "metadata": {},
   "source": [
    "### *An Examination of Metabolic Adjustment, A Variant of Flux Balance Analysis*"
   ]
  },
  {
   "cell_type": "markdown",
   "id": "12891bb8-8bbd-459c-8830-874c876cc8c6",
   "metadata": {},
   "source": [
    "The code below is designed to compare simulations of an E. coli metabolic model generated from flux balance analysis (FBA) and its variant, minimization of metabolic adjustments (MoMA). The code for the FBA representation of E. coli is from the FBA notebook given and supplemented with additional code for the MoMA representation of E. coli."
   ]
  },
  {
   "cell_type": "code",
   "execution_count": 119,
   "id": "bdf0cdce-0047-4593-997d-32ed29933ca4",
   "metadata": {
    "tags": []
   },
   "outputs": [],
   "source": [
    "# imports\n",
    "import numpy as np\n",
    "import matplotlib.pyplot as plt\n",
    "import scipy as sp\n",
    "import cobra as cb"
   ]
  },
  {
   "cell_type": "markdown",
   "id": "7a243d25-64d2-48d3-8733-16583fec2591",
   "metadata": {},
   "source": [
    "### *E. coli* Metabolic Model Using FBA\n"
   ]
  },
  {
   "cell_type": "code",
   "execution_count": 120,
   "id": "ea1613a1-e016-4ad2-9922-aa3ac311115d",
   "metadata": {
    "tags": []
   },
   "outputs": [],
   "source": [
    "# load model\n",
    "model = cb.io.read_sbml_model('iML1515.xml')"
   ]
  },
  {
   "cell_type": "code",
   "execution_count": 144,
   "id": "9f5c3d7f-5302-471d-ac41-67b269131cdc",
   "metadata": {
    "tags": []
   },
   "outputs": [],
   "source": [
    "# Define environment\n",
    "glc_min_med = []\n",
    "def create_env(curr_model):\n",
    "    # Set a blank slate\n",
    "    for ex in curr_model.exchanges:\n",
    "        ex.lower_bound = 0\n",
    "        ex.upper_bound = 1000\n",
    "\n",
    "    # glucose minimal medium\n",
    "    glc_min_med = ['EX_pi_e','EX_co2_e','EX_fe3_e','EX_h_e','EX_mn2_e','EX_fe2_e','EX_glc__D_e','EX_zn2_e',\n",
    "                   'EX_mg2_e','EX_ca2_e','EX_ni2_e','EX_cu2_e','EX_sel_e','EX_cobalt2_e','EX_h2o_e','EX_mobd_e',\n",
    "                   'EX_so4_e','EX_nh4_e','EX_k_e','EX_na1_e','EX_cl_e','EX_o2_e','EX_tungs_e','EX_slnt_e']\n",
    "\n",
    "    for ex_id in glc_min_med:\n",
    "        curr_model.exchanges.get_by_id(ex_id).lower_bound = -1000\n",
    "        #print(model.exchanges.get_by_id(ex_id).id, model.exchanges.get_by_id(ex_id).name)\n",
    "\n",
    "    # set glucose exchange lower bound to -18.5\n",
    "    curr_model.exchanges.get_by_id('EX_glc__D_e').lower_bound = -18.5"
   ]
  },
  {
   "cell_type": "code",
   "execution_count": 146,
   "id": "c26dbbeb-71be-4f26-a3ff-a92e56f82b02",
   "metadata": {
    "tags": []
   },
   "outputs": [
    {
     "name": "stdout",
     "output_type": "stream",
     "text": [
      "1.6443791812413233\n"
     ]
    }
   ],
   "source": [
    "# Simulate Flux\n",
    "create_env(model)\n",
    "model.objective = 'BIOMASS_Ec_iML1515_core_75p37M'\n",
    "solution = model.optimize()\n",
    "print(solution.objective_value)"
   ]
  },
  {
   "cell_type": "code",
   "execution_count": 157,
   "id": "31be08c2-f7cc-449b-8625-7fd636e70fa4",
   "metadata": {
    "tags": []
   },
   "outputs": [],
   "source": [
    "\n",
    "def KO_flux(curr_model):\n",
    "\n",
    "    create_env(curr_model)\n",
    "    # Simulate Gene Deletion\n",
    "    KO_genes = ['b1612','b4122','b1611','b2296','b2297','b2551','b4025','b1761',\n",
    "                  'b0114','b1852','b0767','b0008','b3956','b2029','b3386','b0061',\n",
    "                  'b0432','b2779','b0755','b2288','b3919','b3916','b1723','b3734',\n",
    "                  'b1779','b2926','b2914','b4090','b2935','b2465']\n",
    "    gene_names = []\n",
    "    sols = []\n",
    "\n",
    "    for gene in KO_genes:\n",
    "        with model:\n",
    "            curr_model.genes.get_by_id(gene).knock_out()\n",
    "            solution1 = curr_model.optimize()\n",
    "            sols.append(solution1.objective_value)\n",
    "            gene_names.append(curr_model.genes.get_by_id(gene).name)\n",
    "            #print('Biomass Flux with {:s} KO:{:f}'.format(curr_model.genes.get_by_id(gene).name,solution1.objective_value))\n",
    "            print(solution1.objective_value)\n",
    "\n",
    "    return sols"
   ]
  },
  {
   "cell_type": "code",
   "execution_count": 164,
   "id": "c0f4333d-3ff4-45c6-be88-bb320907579b",
   "metadata": {
    "tags": []
   },
   "outputs": [
    {
     "name": "stdout",
     "output_type": "stream",
     "text": [
      "1.6443791812413318\n",
      "1.6443791812413318\n",
      "1.6443791812413318\n",
      "1.6443791812413318\n",
      "1.6443791812413318\n",
      "1.623078397799453\n",
      "1.6312142277750363\n",
      "1.6443791812413315\n",
      "1.6102923174279127\n",
      "1.6371716722350818\n",
      "1.637171672235073\n",
      "1.644379181241339\n",
      "1.639814184227259\n",
      "1.6371716722350738\n",
      "1.640087730548236\n",
      "1.6443791812413389\n",
      "1.4647748774706426\n",
      "1.5092465745001908\n",
      "1.6443791812413358\n",
      "1.4299566304863691\n",
      "1.5806998630434856\n",
      "1.6443791812413315\n",
      "1.6443791812413255\n",
      "0.5772600020691594\n",
      "1.4276042064412748\n",
      "1.4276042064412773\n",
      "1.6443791812413309\n",
      "1.6443791812413349\n",
      "1.6443791812413349\n",
      "1.6443791812413349\n",
      "[1.000000000000005, 1.000000000000005, 1.000000000000005, 1.000000000000005, 1.000000000000005, 0.9870463067856462, 0.9919939673182016, 1.000000000000005, 0.9792706790488074, 0.9956168813808499, 0.9956168813808447, 1.0000000000000095, 0.997223878126079, 0.995616881380845, 0.9973902304638473, 1.0000000000000095, 0.8907768318770009, 0.9178215047461727, 1.0000000000000075, 0.8696027332375438, 0.9612745533850855, 1.000000000000005, 1.0000000000000013, 0.35105041991190394, 0.8681721483262714, 0.8681721483262729, 1.0000000000000047, 1.000000000000007, 1.000000000000007, 1.000000000000007]\n"
     ]
    }
   ],
   "source": [
    "fba_vals = KO_flux(model)\n",
    "fba_vals = [i/solution.objective_value for i in fba_vals]\n",
    "print(fba_vals)\n"
   ]
  },
  {
   "cell_type": "markdown",
   "id": "feaa0745-a983-4446-a3ea-7b5b76c89e8f",
   "metadata": {},
   "source": [
    "### *E. coli* Metabolic Model Using MoMA"
   ]
  },
  {
   "cell_type": "code",
   "execution_count": 159,
   "id": "3ec9fb6d-2137-403c-aa9e-2dc9a05017e0",
   "metadata": {
    "tags": []
   },
   "outputs": [],
   "source": [
    "moma_model = cb.io.read_sbml_model('iML1515.xml')\n",
    "cb.flux_analysis.add_moma(moma_model, linear=True)\n",
    "create_env(moma_model)\n"
   ]
  },
  {
   "cell_type": "code",
   "execution_count": 166,
   "id": "bae17f8e-4202-44f7-a125-45079a54a3f3",
   "metadata": {
    "tags": []
   },
   "outputs": [
    {
     "name": "stdout",
     "output_type": "stream",
     "text": [
      "-1.3424618404769828e-12\n",
      "0.0\n",
      "-1.3424618404769828e-12\n",
      "-1.3424618404769828e-12\n",
      "0.0\n",
      "30.56367536507674\n",
      "36.08267673261893\n",
      "-1.3424618404769828e-12\n",
      "66.12548139843341\n",
      "27.9522837908999\n",
      "27.952283790898303\n",
      "-1.3424618404769828e-12\n",
      "28.03317403822139\n",
      "27.966715493984193\n",
      "15.717792609021446\n",
      "-1.3424618404769828e-12\n",
      "126.44383700212643\n",
      "180.83009192700857\n",
      "-1.3424618404769828e-12\n",
      "124.93059888965044\n",
      "95.62479013620253\n",
      "3.059612158631345\n",
      "-1.3424618404769828e-12\n",
      "274.11823665184545\n",
      "203.08581309265244\n",
      "203.0858130926531\n",
      "-1.3424618404769828e-12\n",
      "-1.3369583218292291e-12\n",
      "-1.3424618404769828e-12\n",
      "-1.3424618404769828e-12\n"
     ]
    }
   ],
   "source": [
    "#moma_vals = KO_flux(moma_model)\n",
    "\n",
    "\n",
    "\n",
    "KO_genes = ['b1612','b4122','b1611','b2296','b2297','b2551','b4025','b1761',\n",
    "              'b0114','b1852','b0767','b0008','b3956','b2029','b3386','b0061',\n",
    "              'b0432','b2779','b0755','b2288','b3919','b3916','b1723','b3734',\n",
    "              'b1779','b2926','b2914','b4090','b2935','b2465']\n",
    "gene_names = []\n",
    "sols = []\n",
    "\n",
    "for gene in KO_genes:\n",
    "    \n",
    "    moma_model = cb.io.read_sbml_model('iML1515.xml')\n",
    "    cb.flux_analysis.add_moma(moma_model, linear=True)\n",
    "    create_env(moma_model)\n",
    "    \n",
    "    with model:\n",
    "        moma_model.genes.get_by_id(gene).knock_out()\n",
    "        solution1 = moma_model.optimize()\n",
    "        sols.append(solution1.objective_value)\n",
    "        gene_names.append(moma_model.genes.get_by_id(gene).name)\n",
    "        #print('Biomass Flux with {:s} KO:{:f}'.format(curr_model.genes.get_by_id(gene).name,solution1.objective_value))\n",
    "        print(solution1.objective_value)\n"
   ]
  },
  {
   "cell_type": "code",
   "execution_count": 168,
   "id": "81266c2a-0f8f-4bd9-85f2-74364b3609cb",
   "metadata": {
    "tags": []
   },
   "outputs": [
    {
     "name": "stdout",
     "output_type": "stream",
     "text": [
      "[-8.163943303293183e-13, 0.0, -8.163943303293183e-13, -8.163943303293183e-13, 0.0, 18.586756457233037, 21.943039138564455, -8.163943303293183e-13, 40.21303732908856, 16.998685041608855, 16.998685041607885, -8.163943303293183e-13, 17.04787700915762, 17.0074614255773, 9.558496475950433, -8.163943303293183e-13, 76.89457422264091, 109.96860942407577, -8.163943303293183e-13, 75.97432533495208, 58.15251812177314, 1.860648805053393, -8.163943303293183e-13, 166.700138130499, 123.50303105841151, 123.5030310584119, -8.163943303293183e-13, -8.130474631891011e-13, -8.163943303293183e-13, -8.163943303293183e-13]\n"
     ]
    }
   ],
   "source": [
    "moma_vals = [i/solution.objective_value for i in sols]\n",
    "print(moma_vals)"
   ]
  },
  {
   "cell_type": "code",
   "execution_count": 178,
   "id": "54d513b4-b8b7-4eca-be89-8c34b5ced2f6",
   "metadata": {
    "tags": []
   },
   "outputs": [
    {
     "data": {
      "text/plain": [
       "Text(0.5, 0, 'Normalized Growth Yield (FBA)')"
      ]
     },
     "execution_count": 178,
     "metadata": {},
     "output_type": "execute_result"
    },
    {
     "data": {
      "image/png": "[encoded data removed]",
      "text/plain": [
       "<Figure size 640x480 with 1 Axes>"
      ]
     },
     "metadata": {},
     "output_type": "display_data"
    }
   ],
   "source": [
    "plt.figure()\n",
    "plt.scatter(fba_vals, moma_vals)\n",
    "plt.plot([0,175])\n",
    "plt.ylabel('Normalized Growth Yield (MoMA)')\n",
    "plt.xlabel('Normalized Growth Yield (FBA)')"
   ]
  },
  {
   "cell_type": "code",
   "execution_count": null,
   "id": "5b0d6d57-6fe3-4a61-a2cf-36a3cc903587",
   "metadata": {},
   "outputs": [],
   "source": []
  }
 ],
 "metadata": {
  "kernelspec": {
   "display_name": "Python 3 (ipykernel)",
   "language": "python",
   "name": "python3"
  },
  "language_info": {
   "codemirror_mode": {
    "name": "ipython",
    "version": 3
   },
   "file_extension": ".py",
   "mimetype": "text/x-python",
   "name": "python",
   "nbconvert_exporter": "python",
   "pygments_lexer": "ipython3",
   "version": "3.10.9"
  }
 },
 "nbformat": 4,
 "nbformat_minor": 5
}
